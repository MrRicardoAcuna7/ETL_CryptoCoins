{
 "cells": [
  {
   "cell_type": "markdown",
   "metadata": {
    "Collapsed": "false"
   },
   "source": [
    "# ETL (Geting data from public API)  + visualization using KDB Q+"
   ]
  },
  {
   "cell_type": "markdown",
   "metadata": {
    "Collapsed": "false"
   },
   "source": [
    "### Call get from public API, it becomes into a dictionary easy to parse, all in one line.\n",
    "__[See reference](https://code.kx.com/q/ref/dotq/#qhg-http-get)__"
   ]
  },
  {
   "cell_type": "code",
   "execution_count": 1,
   "metadata": {
    "Collapsed": "false"
   },
   "outputs": [
    {
     "data": {
      "text/plain": [
       "99h\n"
      ]
     },
     "execution_count": 1,
     "metadata": {},
     "output_type": "execute_result"
    },
    {
     "data": {
      "text/plain": [
       "Response    | \"Success\"\n",
       "Message     | \"Coin list succesfully returned!\"\n",
       "Data        | `42`300`365`404`433`611`808`888`1337`2015`BTCD`CRAIG`XBS`XPY`PR..\n",
       "BaseImageUrl| \"https://www.cryptocompare.com\"\n",
       "BaseLinkUrl | \"https://www.cryptocompare.com\"\n",
       "RateLimit   | (`symbol$())!()\n",
       "HasWarning  | 0b\n",
       "Type        | 100f\n"
      ]
     },
     "execution_count": 1,
     "metadata": {},
     "output_type": "execute_result"
    }
   ],
   "source": [
    "res_allcoins:.j.k .Q.hg \"https://min-api.cryptocompare.com/data/all/coinlist\";\n",
    "type res_allcoins\n",
    "res_allcoins"
   ]
  },
  {
   "cell_type": "markdown",
   "metadata": {
    "Collapsed": "false"
   },
   "source": [
    "### Parsing that dictionary and storing it into a kdb table\n",
    "__[See reference](https://code.kx.com/q4m3/5_Dictionaries/#513-lookup)__"
   ]
  },
  {
   "cell_type": "code",
   "execution_count": 2,
   "metadata": {
    "Collapsed": "false"
   },
   "outputs": [
    {
     "data": {
      "text/plain": [
       "c          | t f a\n",
       "-----------| -----\n",
       "coin       | s    \n",
       "id         | s    \n",
       "name       | s    \n",
       "coinName   | s    \n",
       "description| s    \n",
       "sortOrder  | i    \n",
       "rating     | s    \n",
       "timeStamp  | p    \n"
      ]
     },
     "execution_count": 2,
     "metadata": {},
     "output_type": "execute_result"
    }
   ],
   "source": [
    "tab_coins:([] coin: key res_allcoins[`Data];id:`$value res_allcoins[`Data;;`Id]; name:`$value res_allcoins[`Data;;`Name];coinName:`$value res_allcoins[`Data;;`CoinName];description:`$value res_allcoins[`Data;;`Description];sortOrder:\"I\"$value res_allcoins[`Data;;`SortOrder];rating:`$value res_allcoins[`Data;;`Rating;`Weiss;`Rating];timeStamp:(count res_allcoins[`Data]) # .z.p);\n",
    "meta tab_coins"
   ]
  },
  {
   "cell_type": "code",
   "execution_count": 3,
   "metadata": {
    "Collapsed": "false"
   },
   "outputs": [
    {
     "data": {
      "text/plain": [
       "\"BTC,ETH,LTC,DASH,XMR,NXT,ETC,DOGE,ZEC,BTS\"\n"
      ]
     },
     "execution_count": 3,
     "metadata": {},
     "output_type": "execute_result"
    }
   ],
   "source": [
    "res_list: \",\" sv (string 10#exec coin from `sortOrder xasc select  from tab_coins);\n",
    "res_list"
   ]
  },
  {
   "cell_type": "code",
   "execution_count": 4,
   "metadata": {
    "Collapsed": "false"
   },
   "outputs": [
    {
     "data": {
      "text/plain": [
       "`:tab_coins_prices.csv\n"
      ]
     },
     "execution_count": 4,
     "metadata": {},
     "output_type": "execute_result"
    }
   ],
   "source": [
    "res:{[coin;curr].j.k  .Q.hg \"https://min-api.cryptocompare.com/data/pricemultifull?fsyms=\",coin,\"&tsyms=\",curr}[res_list;string`USD];\n",
    "tab_coins_prices:(uj)over enlist each res[`RAW;;`USD]\n",
    "save `:tab_coins_prices.csv"
   ]
  },
  {
   "cell_type": "markdown",
   "metadata": {
    "Collapsed": "false"
   },
   "source": [
    "### Using embedpy and matplotlib adding a bar graph"
   ]
  },
  {
   "cell_type": "code",
   "execution_count": 5,
   "metadata": {
    "Collapsed": "false"
   },
   "outputs": [],
   "source": [
    "FROMSYMBOL: {[col]  ?[`tab_coins_prices;();();col]} [`FROMSYMBOL]\n",
    "PRICE: {[col]  ?[`tab_coins_prices;();();col]} [`PRICE]\n",
    ".p.set[`FROMSYMBOL]FROMSYMBOL\n",
    ".p.set[`PRICE]PRICE"
   ]
  },
  {
   "cell_type": "code",
   "execution_count": 6,
   "metadata": {
    "Collapsed": "false"
   },
   "outputs": [
    {
     "data": {
      "image/png": "[encoded data removed]",
      "text/plain": [
       "<Figure size 720x360 with 1 Axes>"
      ]
     },
     "metadata": {},
     "output_type": "display_data"
    }
   ],
   "source": [
    "\\l p.q\n",
    "p)import matplotlib.pyplot as plt\n",
    "p)fig = plt.figure(figsize = (10, 5))\n",
    "p)plt.bar(FROMSYMBOL, PRICE, color ='maroon',width = 0.4)\n",
    "p)plt.xlabel(\"Coins\")\n",
    "p)plt.ylabel(\"Price\")\n",
    "p)plt.title(\"C\")\n",
    "p)plt.show()"
   ]
  },
  {
   "cell_type": "code",
   "execution_count": null,
   "metadata": {
    "Collapsed": "false"
   },
   "outputs": [],
   "source": []
  }
 ],
 "metadata": {
  "kernelspec": {
   "display_name": "Q (kdb+)",
   "language": "q",
   "name": "qpk"
  },
  "language_info": {
   "file_extension": ".q",
   "mimetype": "text/x-q",
   "name": "q",
   "version": "4.0"
  }
 },
 "nbformat": 4,
 "nbformat_minor": 4
}
